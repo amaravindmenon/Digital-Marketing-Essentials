{
  "nbformat": 4,
  "nbformat_minor": 0,
  "metadata": {
    "colab": {
      "name": "Untitled",
      "provenance": [],
      "authorship_tag": "ABX9TyNqG5kbanC1toe0CxbGBnAX",
      "include_colab_link": true
    },
    "kernelspec": {
      "name": "python3",
      "display_name": "Python 3"
    }
  },
  "cells": [
    {
      "cell_type": "markdown",
      "metadata": {
        "id": "view-in-github",
        "colab_type": "text"
      },
      "source": [
        "<a href=\"https://colab.research.google.com/github/tanujha-web/Digital-Marketing-Essentials/blob/master/Untitled.ipynb\" target=\"_parent\"><img src=\"https://colab.research.google.com/assets/colab-badge.svg\" alt=\"Open In Colab\"/></a>"
      ]
    },
    {
      "cell_type": "code",
      "metadata": {
        "id": "0OSViEJrdzvd",
        "colab_type": "code",
        "colab": {
          "base_uri": "https://localhost:8080/",
          "height": 276
        },
        "outputId": "bc89b776-cba5-4614-ad95-5ffd72668134"
      },
      "source": [
        " class Account:\n",
        "    balance = 1000\n",
        "    name = \"\"\n",
        "    def __init__(self,name):\n",
        "        self.name = name\n",
        "        print(\"Welcome, Your account is created\",name)\n",
        "        print(\"You have an initial non withdrawal balance of Rs 1000\")\n",
        "        print(\"--------------------------------------\")\n",
        " \n",
        " \n",
        "    def deposit(self,bal):\n",
        "        print(f\"Amount Deposited in Account Holder Name {self.name} is : Rs {bal}\")\n",
        "        self.balance += bal\n",
        "        \n",
        " \n",
        "    def viewbalance(self):\n",
        "        print(f\"Available balance in {self.name} Account is : Rs{self.balance}\")\n",
        "    \n",
        "    \n",
        "    def issufficient(self,amt):\n",
        "        if(self.balance >= amt):\n",
        "            return True\n",
        "        else:\n",
        "           return False    \n",
        "    \n",
        "    def withdraw(self,amt):\n",
        "        if(self.issufficient(amt)):\n",
        "              self.balance -= amt\n",
        "              if(self.balance <= 1000):\n",
        "                print(\"Withdraw Amount Rs\",amt)\n",
        "                print(\"Withdraw amount not possible. Amount exceeds minimum balance\")\n",
        "                self.balance += amt\n",
        "              else:\n",
        "                print(\"Withdraw Amount Rs\",amt)\n",
        "        else:\n",
        "            within = self.balance - 1000;\n",
        "            print(\"Withdraw amount not possible. Amount exceeds minimum balance\") \n",
        "            #print(f\"Minimum Withdraw balance in {self.name} is: Rs{within}\")\n",
        "tanu = Account(\"Tanu\");\n",
        "tanu.deposit(1000)\n",
        "tanu.viewbalance()\n",
        "print(\"\")\n",
        "tanu.deposit(3000)\n",
        "tanu.viewbalance()\n",
        "print(\"\")\n",
        "tanu.withdraw(1500)\n",
        "tanu.viewbalance()\n",
        "print(\"\")\n",
        "tanu.withdraw(4500)\n",
        "tanu.viewbalance()"
      ],
      "execution_count": null,
      "outputs": [
        {
          "output_type": "stream",
          "text": [
            "Welcome, Your account is created Tanu\n",
            "You have an initial non withdrawal balance of Rs 1000\n",
            "--------------------------------------\n",
            "Amount Deposited in Account Holder Name Tanu is : Rs 1000\n",
            "Available balance in Tanu Account is : Rs2000\n",
            "\n",
            "Amount Deposited in Account Holder Name Tanu is : Rs 3000\n",
            "Available balance in Tanu Account is : Rs5000\n",
            "\n",
            "Withdraw Amount Rs 1500\n",
            "Available balance in Tanu Account is : Rs3500\n",
            "\n",
            "Withdraw amount not possible. Amount exceeds minimum balance\n",
            "Available balance in Tanu Account is : Rs3500\n"
          ],
          "name": "stdout"
        }
      ]
    },
    {
      "cell_type": "markdown",
      "metadata": {
        "id": "yOoMUYIOfcj5",
        "colab_type": "text"
      },
      "source": [
        ""
      ]
    },
    {
      "cell_type": "code",
      "metadata": {
        "id": "kZZls4q_ebBZ",
        "colab_type": "code",
        "colab": {}
      },
      "source": [
        ""
      ],
      "execution_count": null,
      "outputs": []
    }
  ]
}